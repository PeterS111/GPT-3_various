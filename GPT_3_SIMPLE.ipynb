{
 "cells": [
  {
   "cell_type": "markdown",
   "metadata": {},
   "source": [
    "<a target=\"_blank\" href=\"https://colab.research.google.com/github/PeterS111/GPT-3_various/blob/GPT_3_SIMPLE.ipynb\">\n",
    "  <img src=\"https://colab.research.google.com/assets/colab-badge.svg\" alt=\"Open In Colab\"/>\n",
    "</a>"
   ]
  },
  {
   "cell_type": "code",
   "execution_count": null,
   "metadata": {},
   "outputs": [],
   "source": [
    "# !pip install openai"
   ]
  },
  {
   "cell_type": "code",
   "execution_count": null,
   "metadata": {},
   "outputs": [],
   "source": [
    "import os\n",
    "import openai"
   ]
  },
  {
   "cell_type": "code",
   "execution_count": null,
   "metadata": {},
   "outputs": [],
   "source": [
    "openai.api_key = \"YOUR_KEY_HERE\""
   ]
  },
  {
   "cell_type": "code",
   "execution_count": null,
   "metadata": {},
   "outputs": [],
   "source": [
    "def run_gpt3(in_str):\n",
    "    response = openai.Completion.create(\n",
    "      model=\"text-davinci-003\",\n",
    "      prompt = in_str,\n",
    "      max_tokens=1500,\n",
    "      temperature=1,\n",
    "    \n",
    "    )\n",
    "    \n",
    "    answer = response[\"choices\"][0][\"text\"].strip() \n",
    "    return answer\n",
    "\n",
    "def write_to_file(out_text):\n",
    "\n",
    "    index = 1\n",
    "    out_file = \"GPT-3_SIMPLE_\"        \n",
    "    out_file_name = out_file + str(index) + \".txt\"\n",
    "\n",
    "    while out_file_name in os.listdir():\n",
    "        index +=1\n",
    "        out_file_name = out_file + str(index) + \".txt\"\n",
    "        if out_file_name not in os.listdir():\n",
    "            break\n",
    "\n",
    "    f= open(out_file_name, \"a\", encoding = \"utf-8\")\n",
    "    f.write(out_text)\n",
    "    f.close()"
   ]
  },
  {
   "cell_type": "code",
   "execution_count": null,
   "metadata": {},
   "outputs": [],
   "source": [
    "## EDIT THE PROMPT AS REQUIRED:  ########\n",
    "\n",
    "prompt = \"\"\"What should I do with GPT?\"\"\"\n",
    "\n",
    "#########################################\n",
    "\n",
    "response = run_gpt3(prompt)\n",
    "response = run_gpt3(prompt).strip()\n",
    "out_text = prompt + \"\\n\\nRESPOSE:\\n\\n\" + response    \n",
    "print(out_text)\n",
    "\n",
    "## WRITE TO FILE:\n",
    "\n",
    "write_to_file(out_text)"
   ]
  }
 ],
 "metadata": {
  "kernelspec": {
   "display_name": "Python 3 (ipykernel)",
   "language": "python",
   "name": "python3"
  },
  "language_info": {
   "codemirror_mode": {
    "name": "ipython",
    "version": 3
   },
   "file_extension": ".py",
   "mimetype": "text/x-python",
   "name": "python",
   "nbconvert_exporter": "python",
   "pygments_lexer": "ipython3",
   "version": "3.9.13"
  }
 },
 "nbformat": 4,
 "nbformat_minor": 4
}
