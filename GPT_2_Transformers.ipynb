{
 "cells": [
  {
   "cell_type": "markdown",
   "id": "05667d77",
   "metadata": {},
   "source": [
    "<a target=\"_blank\" href=\"https://colab.research.google.com/github/PeterS111/GPT-3_various/blob/main/GPT_2_Transformers.ipynb\">\n",
    "  <img src=\"https://colab.research.google.com/assets/colab-badge.svg\" alt=\"Open In Colab\"/>\n",
    "</a>"
   ]
  },
  {
   "cell_type": "markdown",
   "id": "cbd7379e",
   "metadata": {},
   "source": [
    "If you really want to use GPT-2, here is the code. \n",
    "\n",
    "If you want to read more: https://huggingface.co/gpt2 , https://huggingface.co/gpt2-medium, https://huggingface.co/gpt2-large, https://huggingface.co/gpt2-xl \n",
    "\n",
    "Ideally, run it on Colab. Make sure you Runtime is set to \"GPU\". "
   ]
  },
  {
   "cell_type": "code",
   "execution_count": null,
   "id": "8b51dfe9",
   "metadata": {},
   "outputs": [],
   "source": [
    "!pip install transformers"
   ]
  },
  {
   "cell_type": "code",
   "execution_count": null,
   "id": "876a94fb",
   "metadata": {},
   "outputs": [],
   "source": [
    "from transformers import pipeline, set_seed\n",
    "# generator = pipeline('text-generation', model='gpt2')\n",
    "# generator = pipeline('text-generation', model='gpt2-medium')\n",
    "# generator = pipeline('text-generation', model='gpt2-large')\n",
    "generator = pipeline('text-generation', model='gpt2-xl')\n",
    "\n",
    "set_seed(42)\n",
    "\n",
    "prompt = \"Now, regarding the claim that we areliving in the Matrix\"\n",
    "generator(prompt, max_length=300, num_return_sequences=1)\n"
   ]
  },
  {
   "cell_type": "code",
   "execution_count": null,
   "id": "8a40e51b",
   "metadata": {},
   "outputs": [],
   "source": []
  },
  {
   "cell_type": "code",
   "execution_count": null,
   "id": "a6e0521e",
   "metadata": {},
   "outputs": [],
   "source": []
  }
 ],
 "metadata": {
  "kernelspec": {
   "display_name": "Python 3 (ipykernel)",
   "language": "python",
   "name": "python3"
  },
  "language_info": {
   "codemirror_mode": {
    "name": "ipython",
    "version": 3
   },
   "file_extension": ".py",
   "mimetype": "text/x-python",
   "name": "python",
   "nbconvert_exporter": "python",
   "pygments_lexer": "ipython3",
   "version": "3.9.13"
  }
 },
 "nbformat": 4,
 "nbformat_minor": 5
}
