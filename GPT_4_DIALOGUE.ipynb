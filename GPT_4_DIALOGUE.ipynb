{
 "cells": [
  {
   "cell_type": "markdown",
   "metadata": {},
   "source": [
    "<a target=\"_blank\" href=\"https://colab.research.google.com/github/PeterS111/GPT-3_various/blob/main/GPT_4_DIALOGUE.ipynb\">\n",
    "  <img src=\"https://colab.research.google.com/assets/colab-badge.svg\" alt=\"Open In Colab\"/>\n",
    "</a>"
   ]
  },
  {
   "cell_type": "markdown",
   "metadata": {},
   "source": [
    "You have to run the command below to upgrade OpenAI API in order to use GPT-4. The older version will not work with GPT-4.\n",
    "You will have to do it only once, than comment out the \"!pip install --upgrade openai\" command.\n"
   ]
  },
  {
   "cell_type": "code",
   "execution_count": null,
   "metadata": {},
   "outputs": [],
   "source": [
    "!pip install --upgrade openai"
   ]
  },
  {
   "cell_type": "code",
   "execution_count": null,
   "metadata": {},
   "outputs": [],
   "source": [
    "import os\n",
    "import json\n",
    "import openai"
   ]
  },
  {
   "cell_type": "code",
   "execution_count": null,
   "metadata": {},
   "outputs": [],
   "source": [
    "openai.api_key = \"YOUR_KEY_HERE\""
   ]
  },
  {
   "cell_type": "code",
   "execution_count": null,
   "metadata": {},
   "outputs": [],
   "source": [
    "msg_list = [{\"role\": \"system\", \"content\": \"You are a helpful assistant.\"}]\n",
    "\n",
    "## You can only run GPT-4 through this notebook if you jhave access to GPT-4 through APIs\n",
    "## If not, use \"gpt-3.5-turbo\".\n",
    "\n",
    "model = \"gpt-4\"\n",
    "# model = \"gpt-3.5-turbo\"\n",
    "\n",
    "def run_gpt(msg_list, model):\n",
    "\n",
    "    response = openai.ChatCompletion.create(\n",
    "       model=model,\n",
    "       temperature=1,\n",
    "       messages=msg_list\n",
    "    )\n",
    "   \n",
    "    answer = response[\"choices\"][0][\"message\"][\"content\"]\n",
    "    return answer\n",
    "\n",
    "def write_list_to_file(in_list):\n",
    "\n",
    "    index = 1\n",
    "    out_file = model + \"_\"      \n",
    "    out_file_name = out_file + str(index) + \".txt\"\n",
    "\n",
    "    while out_file_name in os.listdir():\n",
    "        index +=1\n",
    "        out_file_name = out_file + str(index) + \".txt\"\n",
    "        if out_file_name not in os.listdir():\n",
    "            break\n",
    "\n",
    "    f= open(out_file_name, \"a\", encoding = \"utf-8\")\n",
    "    for i in in_list:       \n",
    "        write_str = i[\"role\"] + \" :  \"  + i[\"content\"] + \"\\n\\n\"\n",
    "        f.write(write_str)\n",
    "    f.close()"
   ]
  },
  {
   "cell_type": "code",
   "execution_count": null,
   "metadata": {},
   "outputs": [],
   "source": [
    "while True:\n",
    "    user_talk = input(\"Enter your statement. Enter 'q' to quit and write the dialogue to file.\\n\\n>>>\") \n",
    "        \n",
    "    if user_talk == \"q\":\n",
    "        break\n",
    "    \n",
    "    user_dict = {\"role\": \"user\", \"content\": user_talk}    \n",
    "    msg_list.append(user_dict)\n",
    "    system_talk = run_gpt(msg_list, model)\n",
    "    print(system_talk)\n",
    "    system_dict = {\"role\": \"assistant\", \"content\": system_talk}\n",
    "    msg_list.append(system_dict)\n",
    " \n",
    "write_list_to_file(msg_list)    "
   ]
  },
  {
   "cell_type": "code",
   "execution_count": null,
   "metadata": {},
   "outputs": [],
   "source": []
  }
 ],
 "metadata": {
  "kernelspec": {
   "display_name": "Python 3 (ipykernel)",
   "language": "python",
   "name": "python3"
  },
  "language_info": {
   "codemirror_mode": {
    "name": "ipython",
    "version": 3
   },
   "file_extension": ".py",
   "mimetype": "text/x-python",
   "name": "python",
   "nbconvert_exporter": "python",
   "pygments_lexer": "ipython3",
   "version": "3.9.13"
  }
 },
 "nbformat": 4,
 "nbformat_minor": 4
}
